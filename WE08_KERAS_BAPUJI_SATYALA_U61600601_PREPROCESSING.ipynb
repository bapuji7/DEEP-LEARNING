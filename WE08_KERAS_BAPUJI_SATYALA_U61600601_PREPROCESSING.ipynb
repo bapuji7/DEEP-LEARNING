{
 "cells": [
  {
   "cell_type": "markdown",
   "id": "e9beb9ef",
   "metadata": {},
   "source": [
    "# WE08 keras- Data Preprocessing\n",
    "# Bapuji Satyala \n",
    "# U61600601"
   ]
  },
  {
   "cell_type": "markdown",
   "id": "42869fd2",
   "metadata": {},
   "source": [
    "In this Notebook I have considered a dataset from the UCI repository, where this dataset has 2139 observations with 24 features and 1 target, where our target variable is Binary column. This is a Classification Problem where  we are predicting if the patient have died within a certain window of time or not with diagnosed as AIDS and we will be doing the preprocessing of the data in this note book and further implementing the Keras model of branching wide and Deep approach, where i have considered three variations of the Keras Deep and Wide nework.\n",
    "\n",
    "The link for the dataset : https://archive.ics.uci.edu/dataset/890/aids+clinical+trials+group+study+175"
   ]
  },
  {
   "cell_type": "markdown",
   "id": "df90075e",
   "metadata": {},
   "source": [
    "## Importing the required libraries that we will be using in this note book."
   ]
  },
  {
   "cell_type": "code",
   "execution_count": 1,
   "id": "7f0e3a77",
   "metadata": {},
   "outputs": [],
   "source": [
    "import numpy as np\n",
    "import pandas as pd\n",
    "from ucimlrepo import fetch_ucirepo\n",
    "\n",
    "np.random.seed(1)"
   ]
  },
  {
   "cell_type": "markdown",
   "id": "0f737ef7",
   "metadata": {},
   "source": [
    "To import the data we need to install the ucimlrepo as the dataset is Present in that repo, commented the below statement as the repo is already installed."
   ]
  },
  {
   "cell_type": "code",
   "execution_count": 2,
   "id": "7483bbbb",
   "metadata": {},
   "outputs": [],
   "source": [
    "#pip install ucimlrepo"
   ]
  },
  {
   "cell_type": "markdown",
   "id": "4a4b2698",
   "metadata": {},
   "source": [
    "Fetching the dataset from the repo and the id number of the dataset is 890 and we are saving the data set to the dataframe df "
   ]
  },
  {
   "cell_type": "code",
   "execution_count": 3,
   "id": "f8b64b4e",
   "metadata": {},
   "outputs": [],
   "source": [
    "AD = fetch_ucirepo(id=890) \n",
    "df = AD.data.original \n"
   ]
  },
  {
   "cell_type": "markdown",
   "id": "66bd01ae",
   "metadata": {},
   "source": [
    "Now we are looking at the top 5 observations of the dataframe which contain all the features and the target"
   ]
  },
  {
   "cell_type": "code",
   "execution_count": 4,
   "id": "34d4d3ba",
   "metadata": {
    "scrolled": true
   },
   "outputs": [
    {
     "data": {
      "text/html": [
       "<div>\n",
       "<style scoped>\n",
       "    .dataframe tbody tr th:only-of-type {\n",
       "        vertical-align: middle;\n",
       "    }\n",
       "\n",
       "    .dataframe tbody tr th {\n",
       "        vertical-align: top;\n",
       "    }\n",
       "\n",
       "    .dataframe thead th {\n",
       "        text-align: right;\n",
       "    }\n",
       "</style>\n",
       "<table border=\"1\" class=\"dataframe\">\n",
       "  <thead>\n",
       "    <tr style=\"text-align: right;\">\n",
       "      <th></th>\n",
       "      <th>pidnum</th>\n",
       "      <th>cid</th>\n",
       "      <th>time</th>\n",
       "      <th>trt</th>\n",
       "      <th>age</th>\n",
       "      <th>wtkg</th>\n",
       "      <th>hemo</th>\n",
       "      <th>homo</th>\n",
       "      <th>drugs</th>\n",
       "      <th>karnof</th>\n",
       "      <th>...</th>\n",
       "      <th>gender</th>\n",
       "      <th>str2</th>\n",
       "      <th>strat</th>\n",
       "      <th>symptom</th>\n",
       "      <th>treat</th>\n",
       "      <th>offtrt</th>\n",
       "      <th>cd40</th>\n",
       "      <th>cd420</th>\n",
       "      <th>cd80</th>\n",
       "      <th>cd820</th>\n",
       "    </tr>\n",
       "  </thead>\n",
       "  <tbody>\n",
       "    <tr>\n",
       "      <th>0</th>\n",
       "      <td>10056</td>\n",
       "      <td>0</td>\n",
       "      <td>948</td>\n",
       "      <td>2</td>\n",
       "      <td>48</td>\n",
       "      <td>89.8128</td>\n",
       "      <td>0</td>\n",
       "      <td>0</td>\n",
       "      <td>0</td>\n",
       "      <td>100</td>\n",
       "      <td>...</td>\n",
       "      <td>0</td>\n",
       "      <td>0</td>\n",
       "      <td>1</td>\n",
       "      <td>0</td>\n",
       "      <td>1</td>\n",
       "      <td>0</td>\n",
       "      <td>422</td>\n",
       "      <td>477</td>\n",
       "      <td>566</td>\n",
       "      <td>324</td>\n",
       "    </tr>\n",
       "    <tr>\n",
       "      <th>1</th>\n",
       "      <td>10059</td>\n",
       "      <td>1</td>\n",
       "      <td>1002</td>\n",
       "      <td>3</td>\n",
       "      <td>61</td>\n",
       "      <td>49.4424</td>\n",
       "      <td>0</td>\n",
       "      <td>0</td>\n",
       "      <td>0</td>\n",
       "      <td>90</td>\n",
       "      <td>...</td>\n",
       "      <td>0</td>\n",
       "      <td>1</td>\n",
       "      <td>3</td>\n",
       "      <td>0</td>\n",
       "      <td>1</td>\n",
       "      <td>0</td>\n",
       "      <td>162</td>\n",
       "      <td>218</td>\n",
       "      <td>392</td>\n",
       "      <td>564</td>\n",
       "    </tr>\n",
       "    <tr>\n",
       "      <th>2</th>\n",
       "      <td>10089</td>\n",
       "      <td>0</td>\n",
       "      <td>961</td>\n",
       "      <td>3</td>\n",
       "      <td>45</td>\n",
       "      <td>88.4520</td>\n",
       "      <td>0</td>\n",
       "      <td>1</td>\n",
       "      <td>1</td>\n",
       "      <td>90</td>\n",
       "      <td>...</td>\n",
       "      <td>1</td>\n",
       "      <td>1</td>\n",
       "      <td>3</td>\n",
       "      <td>0</td>\n",
       "      <td>1</td>\n",
       "      <td>1</td>\n",
       "      <td>326</td>\n",
       "      <td>274</td>\n",
       "      <td>2063</td>\n",
       "      <td>1893</td>\n",
       "    </tr>\n",
       "    <tr>\n",
       "      <th>3</th>\n",
       "      <td>10093</td>\n",
       "      <td>0</td>\n",
       "      <td>1166</td>\n",
       "      <td>3</td>\n",
       "      <td>47</td>\n",
       "      <td>85.2768</td>\n",
       "      <td>0</td>\n",
       "      <td>1</td>\n",
       "      <td>0</td>\n",
       "      <td>100</td>\n",
       "      <td>...</td>\n",
       "      <td>1</td>\n",
       "      <td>1</td>\n",
       "      <td>3</td>\n",
       "      <td>0</td>\n",
       "      <td>1</td>\n",
       "      <td>0</td>\n",
       "      <td>287</td>\n",
       "      <td>394</td>\n",
       "      <td>1590</td>\n",
       "      <td>966</td>\n",
       "    </tr>\n",
       "    <tr>\n",
       "      <th>4</th>\n",
       "      <td>10124</td>\n",
       "      <td>0</td>\n",
       "      <td>1090</td>\n",
       "      <td>0</td>\n",
       "      <td>43</td>\n",
       "      <td>66.6792</td>\n",
       "      <td>0</td>\n",
       "      <td>1</td>\n",
       "      <td>0</td>\n",
       "      <td>100</td>\n",
       "      <td>...</td>\n",
       "      <td>1</td>\n",
       "      <td>1</td>\n",
       "      <td>3</td>\n",
       "      <td>0</td>\n",
       "      <td>0</td>\n",
       "      <td>0</td>\n",
       "      <td>504</td>\n",
       "      <td>353</td>\n",
       "      <td>870</td>\n",
       "      <td>782</td>\n",
       "    </tr>\n",
       "  </tbody>\n",
       "</table>\n",
       "<p>5 rows × 25 columns</p>\n",
       "</div>"
      ],
      "text/plain": [
       "   pidnum  cid  time  trt  age     wtkg  hemo  homo  drugs  karnof  ...  \\\n",
       "0   10056    0   948    2   48  89.8128     0     0      0     100  ...   \n",
       "1   10059    1  1002    3   61  49.4424     0     0      0      90  ...   \n",
       "2   10089    0   961    3   45  88.4520     0     1      1      90  ...   \n",
       "3   10093    0  1166    3   47  85.2768     0     1      0     100  ...   \n",
       "4   10124    0  1090    0   43  66.6792     0     1      0     100  ...   \n",
       "\n",
       "   gender  str2  strat  symptom  treat  offtrt  cd40  cd420  cd80  cd820  \n",
       "0       0     0      1        0      1       0   422    477   566    324  \n",
       "1       0     1      3        0      1       0   162    218   392    564  \n",
       "2       1     1      3        0      1       1   326    274  2063   1893  \n",
       "3       1     1      3        0      1       0   287    394  1590    966  \n",
       "4       1     1      3        0      0       0   504    353   870    782  \n",
       "\n",
       "[5 rows x 25 columns]"
      ]
     },
     "execution_count": 4,
     "metadata": {},
     "output_type": "execute_result"
    }
   ],
   "source": [
    "df.head()"
   ]
  },
  {
   "cell_type": "markdown",
   "id": "c8464cae",
   "metadata": {},
   "source": [
    "We are looking at the number of rows and columns in the data frame.The dataframe contains 2139 observations and 25 columns "
   ]
  },
  {
   "cell_type": "code",
   "execution_count": 5,
   "id": "c188a873",
   "metadata": {},
   "outputs": [
    {
     "data": {
      "text/plain": [
       "(2139, 25)"
      ]
     },
     "execution_count": 5,
     "metadata": {},
     "output_type": "execute_result"
    }
   ],
   "source": [
    "df.shape"
   ]
  },
  {
   "cell_type": "markdown",
   "id": "63b09af8",
   "metadata": {},
   "source": [
    "Checking if there are any null values in the data frame and additing them to get more clear understanding on data if there are any nulls in the data frame or not"
   ]
  },
  {
   "cell_type": "code",
   "execution_count": 6,
   "id": "a0f04f81",
   "metadata": {},
   "outputs": [
    {
     "data": {
      "text/plain": [
       "pidnum     0\n",
       "cid        0\n",
       "time       0\n",
       "trt        0\n",
       "age        0\n",
       "wtkg       0\n",
       "hemo       0\n",
       "homo       0\n",
       "drugs      0\n",
       "karnof     0\n",
       "oprior     0\n",
       "z30        0\n",
       "zprior     0\n",
       "preanti    0\n",
       "race       0\n",
       "gender     0\n",
       "str2       0\n",
       "strat      0\n",
       "symptom    0\n",
       "treat      0\n",
       "offtrt     0\n",
       "cd40       0\n",
       "cd420      0\n",
       "cd80       0\n",
       "cd820      0\n",
       "dtype: int64"
      ]
     },
     "execution_count": 6,
     "metadata": {},
     "output_type": "execute_result"
    }
   ],
   "source": [
    "df.isna().sum()"
   ]
  },
  {
   "cell_type": "markdown",
   "id": "1d044845",
   "metadata": {},
   "source": [
    "Lets look at the details of the data frame and their data types and the counts of non null values"
   ]
  },
  {
   "cell_type": "code",
   "execution_count": 7,
   "id": "bf62b1fe",
   "metadata": {
    "scrolled": true
   },
   "outputs": [
    {
     "name": "stdout",
     "output_type": "stream",
     "text": [
      "<class 'pandas.core.frame.DataFrame'>\n",
      "RangeIndex: 2139 entries, 0 to 2138\n",
      "Data columns (total 25 columns):\n",
      " #   Column   Non-Null Count  Dtype  \n",
      "---  ------   --------------  -----  \n",
      " 0   pidnum   2139 non-null   int64  \n",
      " 1   cid      2139 non-null   int64  \n",
      " 2   time     2139 non-null   int64  \n",
      " 3   trt      2139 non-null   int64  \n",
      " 4   age      2139 non-null   int64  \n",
      " 5   wtkg     2139 non-null   float64\n",
      " 6   hemo     2139 non-null   int64  \n",
      " 7   homo     2139 non-null   int64  \n",
      " 8   drugs    2139 non-null   int64  \n",
      " 9   karnof   2139 non-null   int64  \n",
      " 10  oprior   2139 non-null   int64  \n",
      " 11  z30      2139 non-null   int64  \n",
      " 12  zprior   2139 non-null   int64  \n",
      " 13  preanti  2139 non-null   int64  \n",
      " 14  race     2139 non-null   int64  \n",
      " 15  gender   2139 non-null   int64  \n",
      " 16  str2     2139 non-null   int64  \n",
      " 17  strat    2139 non-null   int64  \n",
      " 18  symptom  2139 non-null   int64  \n",
      " 19  treat    2139 non-null   int64  \n",
      " 20  offtrt   2139 non-null   int64  \n",
      " 21  cd40     2139 non-null   int64  \n",
      " 22  cd420    2139 non-null   int64  \n",
      " 23  cd80     2139 non-null   int64  \n",
      " 24  cd820    2139 non-null   int64  \n",
      "dtypes: float64(1), int64(24)\n",
      "memory usage: 417.9 KB\n"
     ]
    }
   ],
   "source": [
    "df.info()"
   ]
  },
  {
   "cell_type": "markdown",
   "id": "ed012925",
   "metadata": {},
   "source": [
    "We are looking at the statstics of the data in the dataframe, from the below we can see the minimum values, maximum values and the mean and standard deviadtion in each column of the data frame "
   ]
  },
  {
   "cell_type": "code",
   "execution_count": 8,
   "id": "31822fd1",
   "metadata": {},
   "outputs": [
    {
     "data": {
      "text/html": [
       "<div>\n",
       "<style scoped>\n",
       "    .dataframe tbody tr th:only-of-type {\n",
       "        vertical-align: middle;\n",
       "    }\n",
       "\n",
       "    .dataframe tbody tr th {\n",
       "        vertical-align: top;\n",
       "    }\n",
       "\n",
       "    .dataframe thead th {\n",
       "        text-align: right;\n",
       "    }\n",
       "</style>\n",
       "<table border=\"1\" class=\"dataframe\">\n",
       "  <thead>\n",
       "    <tr style=\"text-align: right;\">\n",
       "      <th></th>\n",
       "      <th>pidnum</th>\n",
       "      <th>cid</th>\n",
       "      <th>time</th>\n",
       "      <th>trt</th>\n",
       "      <th>age</th>\n",
       "      <th>wtkg</th>\n",
       "      <th>hemo</th>\n",
       "      <th>homo</th>\n",
       "      <th>drugs</th>\n",
       "      <th>karnof</th>\n",
       "      <th>...</th>\n",
       "      <th>gender</th>\n",
       "      <th>str2</th>\n",
       "      <th>strat</th>\n",
       "      <th>symptom</th>\n",
       "      <th>treat</th>\n",
       "      <th>offtrt</th>\n",
       "      <th>cd40</th>\n",
       "      <th>cd420</th>\n",
       "      <th>cd80</th>\n",
       "      <th>cd820</th>\n",
       "    </tr>\n",
       "  </thead>\n",
       "  <tbody>\n",
       "    <tr>\n",
       "      <th>count</th>\n",
       "      <td>2139.000000</td>\n",
       "      <td>2139.000000</td>\n",
       "      <td>2139.000000</td>\n",
       "      <td>2139.000000</td>\n",
       "      <td>2139.000000</td>\n",
       "      <td>2139.000000</td>\n",
       "      <td>2139.000000</td>\n",
       "      <td>2139.000000</td>\n",
       "      <td>2139.000000</td>\n",
       "      <td>2139.000000</td>\n",
       "      <td>...</td>\n",
       "      <td>2139.000000</td>\n",
       "      <td>2139.000000</td>\n",
       "      <td>2139.000000</td>\n",
       "      <td>2139.000000</td>\n",
       "      <td>2139.000000</td>\n",
       "      <td>2139.000000</td>\n",
       "      <td>2139.000000</td>\n",
       "      <td>2139.000000</td>\n",
       "      <td>2139.000000</td>\n",
       "      <td>2139.000000</td>\n",
       "    </tr>\n",
       "    <tr>\n",
       "      <th>mean</th>\n",
       "      <td>248778.252454</td>\n",
       "      <td>0.243572</td>\n",
       "      <td>879.098177</td>\n",
       "      <td>1.520804</td>\n",
       "      <td>35.248247</td>\n",
       "      <td>75.125311</td>\n",
       "      <td>0.084151</td>\n",
       "      <td>0.661057</td>\n",
       "      <td>0.131370</td>\n",
       "      <td>95.446470</td>\n",
       "      <td>...</td>\n",
       "      <td>0.827957</td>\n",
       "      <td>0.585788</td>\n",
       "      <td>1.979897</td>\n",
       "      <td>0.172978</td>\n",
       "      <td>0.751286</td>\n",
       "      <td>0.362786</td>\n",
       "      <td>350.501169</td>\n",
       "      <td>371.307153</td>\n",
       "      <td>986.627396</td>\n",
       "      <td>935.369799</td>\n",
       "    </tr>\n",
       "    <tr>\n",
       "      <th>std</th>\n",
       "      <td>234237.289399</td>\n",
       "      <td>0.429338</td>\n",
       "      <td>292.274324</td>\n",
       "      <td>1.127890</td>\n",
       "      <td>8.709026</td>\n",
       "      <td>13.263164</td>\n",
       "      <td>0.277680</td>\n",
       "      <td>0.473461</td>\n",
       "      <td>0.337883</td>\n",
       "      <td>5.900985</td>\n",
       "      <td>...</td>\n",
       "      <td>0.377506</td>\n",
       "      <td>0.492701</td>\n",
       "      <td>0.899053</td>\n",
       "      <td>0.378317</td>\n",
       "      <td>0.432369</td>\n",
       "      <td>0.480916</td>\n",
       "      <td>118.573863</td>\n",
       "      <td>144.634909</td>\n",
       "      <td>480.197750</td>\n",
       "      <td>444.976051</td>\n",
       "    </tr>\n",
       "    <tr>\n",
       "      <th>min</th>\n",
       "      <td>10056.000000</td>\n",
       "      <td>0.000000</td>\n",
       "      <td>14.000000</td>\n",
       "      <td>0.000000</td>\n",
       "      <td>12.000000</td>\n",
       "      <td>31.000000</td>\n",
       "      <td>0.000000</td>\n",
       "      <td>0.000000</td>\n",
       "      <td>0.000000</td>\n",
       "      <td>70.000000</td>\n",
       "      <td>...</td>\n",
       "      <td>0.000000</td>\n",
       "      <td>0.000000</td>\n",
       "      <td>1.000000</td>\n",
       "      <td>0.000000</td>\n",
       "      <td>0.000000</td>\n",
       "      <td>0.000000</td>\n",
       "      <td>0.000000</td>\n",
       "      <td>49.000000</td>\n",
       "      <td>40.000000</td>\n",
       "      <td>124.000000</td>\n",
       "    </tr>\n",
       "    <tr>\n",
       "      <th>25%</th>\n",
       "      <td>81446.500000</td>\n",
       "      <td>0.000000</td>\n",
       "      <td>727.000000</td>\n",
       "      <td>1.000000</td>\n",
       "      <td>29.000000</td>\n",
       "      <td>66.679200</td>\n",
       "      <td>0.000000</td>\n",
       "      <td>0.000000</td>\n",
       "      <td>0.000000</td>\n",
       "      <td>90.000000</td>\n",
       "      <td>...</td>\n",
       "      <td>1.000000</td>\n",
       "      <td>0.000000</td>\n",
       "      <td>1.000000</td>\n",
       "      <td>0.000000</td>\n",
       "      <td>1.000000</td>\n",
       "      <td>0.000000</td>\n",
       "      <td>263.500000</td>\n",
       "      <td>269.000000</td>\n",
       "      <td>654.000000</td>\n",
       "      <td>631.500000</td>\n",
       "    </tr>\n",
       "    <tr>\n",
       "      <th>50%</th>\n",
       "      <td>190566.000000</td>\n",
       "      <td>0.000000</td>\n",
       "      <td>997.000000</td>\n",
       "      <td>2.000000</td>\n",
       "      <td>34.000000</td>\n",
       "      <td>74.390400</td>\n",
       "      <td>0.000000</td>\n",
       "      <td>1.000000</td>\n",
       "      <td>0.000000</td>\n",
       "      <td>100.000000</td>\n",
       "      <td>...</td>\n",
       "      <td>1.000000</td>\n",
       "      <td>1.000000</td>\n",
       "      <td>2.000000</td>\n",
       "      <td>0.000000</td>\n",
       "      <td>1.000000</td>\n",
       "      <td>0.000000</td>\n",
       "      <td>340.000000</td>\n",
       "      <td>353.000000</td>\n",
       "      <td>893.000000</td>\n",
       "      <td>865.000000</td>\n",
       "    </tr>\n",
       "    <tr>\n",
       "      <th>75%</th>\n",
       "      <td>280277.000000</td>\n",
       "      <td>0.000000</td>\n",
       "      <td>1091.000000</td>\n",
       "      <td>3.000000</td>\n",
       "      <td>40.000000</td>\n",
       "      <td>82.555200</td>\n",
       "      <td>0.000000</td>\n",
       "      <td>1.000000</td>\n",
       "      <td>0.000000</td>\n",
       "      <td>100.000000</td>\n",
       "      <td>...</td>\n",
       "      <td>1.000000</td>\n",
       "      <td>1.000000</td>\n",
       "      <td>3.000000</td>\n",
       "      <td>0.000000</td>\n",
       "      <td>1.000000</td>\n",
       "      <td>1.000000</td>\n",
       "      <td>423.000000</td>\n",
       "      <td>460.000000</td>\n",
       "      <td>1207.000000</td>\n",
       "      <td>1146.500000</td>\n",
       "    </tr>\n",
       "    <tr>\n",
       "      <th>max</th>\n",
       "      <td>990077.000000</td>\n",
       "      <td>1.000000</td>\n",
       "      <td>1231.000000</td>\n",
       "      <td>3.000000</td>\n",
       "      <td>70.000000</td>\n",
       "      <td>159.939360</td>\n",
       "      <td>1.000000</td>\n",
       "      <td>1.000000</td>\n",
       "      <td>1.000000</td>\n",
       "      <td>100.000000</td>\n",
       "      <td>...</td>\n",
       "      <td>1.000000</td>\n",
       "      <td>1.000000</td>\n",
       "      <td>3.000000</td>\n",
       "      <td>1.000000</td>\n",
       "      <td>1.000000</td>\n",
       "      <td>1.000000</td>\n",
       "      <td>1199.000000</td>\n",
       "      <td>1119.000000</td>\n",
       "      <td>5011.000000</td>\n",
       "      <td>6035.000000</td>\n",
       "    </tr>\n",
       "  </tbody>\n",
       "</table>\n",
       "<p>8 rows × 25 columns</p>\n",
       "</div>"
      ],
      "text/plain": [
       "              pidnum          cid         time          trt          age  \\\n",
       "count    2139.000000  2139.000000  2139.000000  2139.000000  2139.000000   \n",
       "mean   248778.252454     0.243572   879.098177     1.520804    35.248247   \n",
       "std    234237.289399     0.429338   292.274324     1.127890     8.709026   \n",
       "min     10056.000000     0.000000    14.000000     0.000000    12.000000   \n",
       "25%     81446.500000     0.000000   727.000000     1.000000    29.000000   \n",
       "50%    190566.000000     0.000000   997.000000     2.000000    34.000000   \n",
       "75%    280277.000000     0.000000  1091.000000     3.000000    40.000000   \n",
       "max    990077.000000     1.000000  1231.000000     3.000000    70.000000   \n",
       "\n",
       "              wtkg         hemo         homo        drugs       karnof  ...  \\\n",
       "count  2139.000000  2139.000000  2139.000000  2139.000000  2139.000000  ...   \n",
       "mean     75.125311     0.084151     0.661057     0.131370    95.446470  ...   \n",
       "std      13.263164     0.277680     0.473461     0.337883     5.900985  ...   \n",
       "min      31.000000     0.000000     0.000000     0.000000    70.000000  ...   \n",
       "25%      66.679200     0.000000     0.000000     0.000000    90.000000  ...   \n",
       "50%      74.390400     0.000000     1.000000     0.000000   100.000000  ...   \n",
       "75%      82.555200     0.000000     1.000000     0.000000   100.000000  ...   \n",
       "max     159.939360     1.000000     1.000000     1.000000   100.000000  ...   \n",
       "\n",
       "            gender         str2        strat      symptom        treat  \\\n",
       "count  2139.000000  2139.000000  2139.000000  2139.000000  2139.000000   \n",
       "mean      0.827957     0.585788     1.979897     0.172978     0.751286   \n",
       "std       0.377506     0.492701     0.899053     0.378317     0.432369   \n",
       "min       0.000000     0.000000     1.000000     0.000000     0.000000   \n",
       "25%       1.000000     0.000000     1.000000     0.000000     1.000000   \n",
       "50%       1.000000     1.000000     2.000000     0.000000     1.000000   \n",
       "75%       1.000000     1.000000     3.000000     0.000000     1.000000   \n",
       "max       1.000000     1.000000     3.000000     1.000000     1.000000   \n",
       "\n",
       "            offtrt         cd40        cd420         cd80        cd820  \n",
       "count  2139.000000  2139.000000  2139.000000  2139.000000  2139.000000  \n",
       "mean      0.362786   350.501169   371.307153   986.627396   935.369799  \n",
       "std       0.480916   118.573863   144.634909   480.197750   444.976051  \n",
       "min       0.000000     0.000000    49.000000    40.000000   124.000000  \n",
       "25%       0.000000   263.500000   269.000000   654.000000   631.500000  \n",
       "50%       0.000000   340.000000   353.000000   893.000000   865.000000  \n",
       "75%       1.000000   423.000000   460.000000  1207.000000  1146.500000  \n",
       "max       1.000000  1199.000000  1119.000000  5011.000000  6035.000000  \n",
       "\n",
       "[8 rows x 25 columns]"
      ]
     },
     "execution_count": 8,
     "metadata": {},
     "output_type": "execute_result"
    }
   ],
   "source": [
    "df.describe()"
   ]
  },
  {
   "cell_type": "markdown",
   "id": "1b8e14a1",
   "metadata": {},
   "source": [
    "### Step 2: Dropping the  variables that are not relavant to our analysis "
   ]
  },
  {
   "cell_type": "markdown",
   "id": "6cef7682",
   "metadata": {},
   "source": [
    "The race column do hold data for the patients if they are White or Non-White which is not relavant to our analysis, so we are dropping the column from our data frame."
   ]
  },
  {
   "cell_type": "code",
   "execution_count": 9,
   "id": "22a0a2a2",
   "metadata": {},
   "outputs": [],
   "source": [
    "df.drop(columns=['race','pidnum'],inplace=True)"
   ]
  },
  {
   "cell_type": "markdown",
   "id": "9f0fe3ff",
   "metadata": {},
   "source": [
    "Lets look at the number of columns after dropping the race column from the dataframe"
   ]
  },
  {
   "cell_type": "code",
   "execution_count": 10,
   "id": "69de821f",
   "metadata": {},
   "outputs": [
    {
     "data": {
      "text/plain": [
       "(2139, 23)"
      ]
     },
     "execution_count": 10,
     "metadata": {},
     "output_type": "execute_result"
    }
   ],
   "source": [
    "df.shape"
   ]
  },
  {
   "cell_type": "markdown",
   "id": "33aed479",
   "metadata": {},
   "source": [
    "### Step 3:Checking if the target class is balanced or not"
   ]
  },
  {
   "cell_type": "code",
   "execution_count": 11,
   "id": "959ce796",
   "metadata": {},
   "outputs": [
    {
     "data": {
      "text/plain": [
       "0    1618\n",
       "1     521\n",
       "Name: cid, dtype: int64"
      ]
     },
     "execution_count": 11,
     "metadata": {},
     "output_type": "execute_result"
    }
   ],
   "source": [
    "df['cid'].value_counts()"
   ]
  },
  {
   "cell_type": "markdown",
   "id": "02449783",
   "metadata": {},
   "source": [
    "We can see that the target class is unbalanced as there will be bias if this unbalancing is not adjusted, hence balancing technique will be implemented in the Model fitting notebook"
   ]
  },
  {
   "cell_type": "markdown",
   "id": "e0f5f03f",
   "metadata": {},
   "source": [
    "Saving the dataframe to csv file to use the dataframe for further model fitting and analysis "
   ]
  },
  {
   "cell_type": "code",
   "execution_count": 12,
   "id": "39ef2276",
   "metadata": {},
   "outputs": [],
   "source": [
    "df.to_csv('KERAS_NN_DATA.csv', index=False)"
   ]
  },
  {
   "cell_type": "code",
   "execution_count": null,
   "id": "51b58378",
   "metadata": {},
   "outputs": [],
   "source": []
  }
 ],
 "metadata": {
  "kernelspec": {
   "display_name": "Python 3 (ipykernel)",
   "language": "python",
   "name": "python3"
  },
  "language_info": {
   "codemirror_mode": {
    "name": "ipython",
    "version": 3
   },
   "file_extension": ".py",
   "mimetype": "text/x-python",
   "name": "python",
   "nbconvert_exporter": "python",
   "pygments_lexer": "ipython3",
   "version": "3.11.4"
  }
 },
 "nbformat": 4,
 "nbformat_minor": 5
}
